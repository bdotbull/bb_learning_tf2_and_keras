{
 "cells": [
  {
   "cell_type": "code",
   "execution_count": 1,
   "metadata": {},
   "outputs": [],
   "source": [
    "import numpy as np\r\n",
    "import pandas as pd\r\n",
    "import matplotlib.pyplot as plt\r\n",
    "import seaborn as sns\r\n",
    "\r\n",
    "from tensorflow.keras.utils import to_categorical\r\n",
    "from tensorflow.keras.models import Sequential\r\n",
    "from tensorflow.keras.layers import Dense, Conv2D, MaxPool2D, Flatten\r\n",
    "from tensorflow.keras.callbacks import EarlyStopping\r\n",
    "\r\n",
    "from sklearn.metrics import classification_report, confusion_matrix\r\n",
    "\r\n",
    "%matplotlib inline"
   ]
  },
  {
   "cell_type": "code",
   "execution_count": 2,
   "metadata": {},
   "outputs": [],
   "source": [
    "# Load Dataset\r\n",
    "from tensorflow.keras.datasets import cifar10"
   ]
  },
  {
   "cell_type": "code",
   "execution_count": 3,
   "metadata": {},
   "outputs": [],
   "source": [
    "(x_train, y_train), (x_test, y_test) = cifar10.load_data()"
   ]
  },
  {
   "cell_type": "code",
   "execution_count": 4,
   "metadata": {},
   "outputs": [
    {
     "data": {
      "text/plain": [
       "(50000, 32, 32, 3)"
      ]
     },
     "execution_count": 4,
     "metadata": {},
     "output_type": "execute_result"
    }
   ],
   "source": [
    "x_train.shape\r\n",
    "# 50,000 images, 32px by 32px, 3 color channels"
   ]
  },
  {
   "cell_type": "code",
   "execution_count": 5,
   "metadata": {},
   "outputs": [
    {
     "data": {
      "text/plain": [
       "<matplotlib.image.AxesImage at 0x1d7d2c99100>"
      ]
     },
     "execution_count": 5,
     "metadata": {},
     "output_type": "execute_result"
    },
    {
     "data": {
      "image/png": "[encoded data removed]",
      "text/plain": [
       "<Figure size 432x288 with 1 Axes>"
      ]
     },
     "metadata": {
      "needs_background": "light"
     },
     "output_type": "display_data"
    }
   ],
   "source": [
    "plt.imshow(x_train[13])"
   ]
  },
  {
   "cell_type": "markdown",
   "metadata": {},
   "source": [
    "## Data Preprocessing"
   ]
  },
  {
   "cell_type": "code",
   "execution_count": 6,
   "metadata": {},
   "outputs": [
    {
     "data": {
      "text/plain": [
       "255"
      ]
     },
     "execution_count": 6,
     "metadata": {},
     "output_type": "execute_result"
    }
   ],
   "source": [
    "x_train[0].max()"
   ]
  },
  {
   "cell_type": "code",
   "execution_count": 7,
   "metadata": {},
   "outputs": [],
   "source": [
    "# Each image goes from 0-255 for each of the color channels.\r\n",
    "# So we will scale\r\n",
    "x_train = x_train/255\r\n",
    "x_test = x_test/255"
   ]
  },
  {
   "cell_type": "code",
   "execution_count": 8,
   "metadata": {},
   "outputs": [
    {
     "data": {
      "text/plain": [
       "(10000, 32, 32, 3)"
      ]
     },
     "execution_count": 8,
     "metadata": {},
     "output_type": "execute_result"
    }
   ],
   "source": [
    "# How many images in test set?\r\n",
    "x_test.shape"
   ]
  },
  {
   "cell_type": "code",
   "execution_count": 9,
   "metadata": {},
   "outputs": [
    {
     "data": {
      "text/plain": [
       "array([[3],\n",
       "       [8],\n",
       "       [8],\n",
       "       ...,\n",
       "       [5],\n",
       "       [1],\n",
       "       [7]], dtype=uint8)"
      ]
     },
     "execution_count": 9,
     "metadata": {},
     "output_type": "execute_result"
    }
   ],
   "source": [
    "# What do our labels look like?\r\n",
    "y_test"
   ]
  },
  {
   "cell_type": "code",
   "execution_count": 10,
   "metadata": {},
   "outputs": [],
   "source": [
    "# We should convert to categorical\r\n",
    "y_cat_train = to_categorical(y_train, 10)\r\n",
    "y_cat_test = to_categorical(y_test, 10)"
   ]
  },
  {
   "cell_type": "code",
   "execution_count": 11,
   "metadata": {},
   "outputs": [
    {
     "data": {
      "text/plain": [
       "array([6], dtype=uint8)"
      ]
     },
     "execution_count": 11,
     "metadata": {},
     "output_type": "execute_result"
    }
   ],
   "source": [
    "y_train[0]"
   ]
  },
  {
   "cell_type": "markdown",
   "metadata": {},
   "source": [
    "## Model Creation"
   ]
  },
  {
   "cell_type": "code",
   "execution_count": 12,
   "metadata": {},
   "outputs": [],
   "source": [
    "model = Sequential()\r\n",
    "\r\n",
    "# Convolutional Layer\r\n",
    "model.add(Conv2D(filters=32, kernel_size=(4,4),\r\n",
    "                input_shape=(32, 32, 3), activation='relu'))\r\n",
    "model.add(MaxPool2D(pool_size=(2,2)))\r\n",
    "\r\n",
    "# Convolutional Layer \r\n",
    "model.add(Conv2D(filters=32, kernel_size=(4,4),\r\n",
    "                input_shape=(32, 32, 3), activation='relu'))\r\n",
    "model.add(MaxPool2D(pool_size=(2,2)))\r\n",
    "\r\n",
    "model.add(Flatten())\r\n",
    "\r\n",
    "model.add(Dense(256, activation='relu'))\r\n",
    "\r\n",
    "# Output Layer\r\n",
    "model.add(Dense(10, activation='softmax'))  # Multiclass -> softmax\r\n",
    "\r\n",
    "model.compile(loss='categorical_crossentropy', optimizer='adam',\r\n",
    "                metrics=['accuracy'])  # keras.io/metrics"
   ]
  },
  {
   "cell_type": "code",
   "execution_count": 13,
   "metadata": {},
   "outputs": [
    {
     "name": "stdout",
     "output_type": "stream",
     "text": [
      "Model: \"sequential\"\n",
      "_________________________________________________________________\n",
      "Layer (type)                 Output Shape              Param #   \n",
      "=================================================================\n",
      "conv2d (Conv2D)              (None, 29, 29, 32)        1568      \n",
      "_________________________________________________________________\n",
      "max_pooling2d (MaxPooling2D) (None, 14, 14, 32)        0         \n",
      "_________________________________________________________________\n",
      "conv2d_1 (Conv2D)            (None, 11, 11, 32)        16416     \n",
      "_________________________________________________________________\n",
      "max_pooling2d_1 (MaxPooling2 (None, 5, 5, 32)          0         \n",
      "_________________________________________________________________\n",
      "flatten (Flatten)            (None, 800)               0         \n",
      "_________________________________________________________________\n",
      "dense (Dense)                (None, 256)               205056    \n",
      "_________________________________________________________________\n",
      "dense_1 (Dense)              (None, 10)                2570      \n",
      "=================================================================\n",
      "Total params: 225,610\n",
      "Trainable params: 225,610\n",
      "Non-trainable params: 0\n",
      "_________________________________________________________________\n"
     ]
    }
   ],
   "source": [
    "model.summary()"
   ]
  },
  {
   "cell_type": "code",
   "execution_count": 14,
   "metadata": {},
   "outputs": [],
   "source": [
    "early_stop = EarlyStopping(monitor='val_loss', patience=2)"
   ]
  },
  {
   "cell_type": "code",
   "execution_count": 15,
   "metadata": {},
   "outputs": [
    {
     "name": "stdout",
     "output_type": "stream",
     "text": [
      "Epoch 1/20\n",
      "1563/1563 [==============================] - 6s 4ms/step - loss: 1.4890 - accuracy: 0.4606 - val_loss: 1.2605 - val_accuracy: 0.5570\n",
      "Epoch 2/20\n",
      "1563/1563 [==============================] - 6s 4ms/step - loss: 1.1663 - accuracy: 0.5865 - val_loss: 1.1190 - val_accuracy: 0.6080\n",
      "Epoch 3/20\n",
      "1563/1563 [==============================] - 6s 4ms/step - loss: 1.0182 - accuracy: 0.6431 - val_loss: 1.0338 - val_accuracy: 0.6378\n",
      "Epoch 4/20\n",
      "1563/1563 [==============================] - 6s 4ms/step - loss: 0.9105 - accuracy: 0.6814 - val_loss: 1.0384 - val_accuracy: 0.6448\n",
      "Epoch 5/20\n",
      "1563/1563 [==============================] - 6s 4ms/step - loss: 0.8233 - accuracy: 0.7113 - val_loss: 0.9529 - val_accuracy: 0.6713\n",
      "Epoch 6/20\n",
      "1563/1563 [==============================] - 6s 4ms/step - loss: 0.7508 - accuracy: 0.7366 - val_loss: 0.9940 - val_accuracy: 0.6628\n",
      "Epoch 7/20\n",
      "1563/1563 [==============================] - 6s 4ms/step - loss: 0.6778 - accuracy: 0.7622 - val_loss: 0.9896 - val_accuracy: 0.6697\n"
     ]
    },
    {
     "data": {
      "text/plain": [
       "<tensorflow.python.keras.callbacks.History at 0x1d7cde402b0>"
      ]
     },
     "execution_count": 15,
     "metadata": {},
     "output_type": "execute_result"
    }
   ],
   "source": [
    "model.fit(x_train, y_cat_train,\r\n",
    "            epochs=20,\r\n",
    "            validation_data=(x_test, y_cat_test),\r\n",
    "            callbacks=[early_stop])"
   ]
  },
  {
   "cell_type": "markdown",
   "metadata": {},
   "source": [
    "## Model Evaluation"
   ]
  },
  {
   "cell_type": "code",
   "execution_count": 17,
   "metadata": {},
   "outputs": [
    {
     "data": {
      "text/plain": [
       "<AxesSubplot:>"
      ]
     },
     "execution_count": 17,
     "metadata": {},
     "output_type": "execute_result"
    },
    {
     "data": {
      "image/png": "[encoded data removed]",
      "text/plain": [
       "<Figure size 432x288 with 1 Axes>"
      ]
     },
     "metadata": {
      "needs_background": "light"
     },
     "output_type": "display_data"
    },
    {
     "data": {
      "image/png": "[encoded data removed]",
      "text/plain": [
       "<Figure size 432x288 with 1 Axes>"
      ]
     },
     "metadata": {
      "needs_background": "light"
     },
     "output_type": "display_data"
    }
   ],
   "source": [
    "metrics = pd.DataFrame(model.history.history)\r\n",
    "\r\n",
    "metrics[['accuracy', 'val_accuracy']].plot();\r\n",
    "metrics[['loss', 'val_loss']].plot();\r\n"
   ]
  },
  {
   "cell_type": "code",
   "execution_count": 37,
   "metadata": {},
   "outputs": [
    {
     "data": {
      "text/plain": [
       "loss            0.677823\n",
       "accuracy        0.762160\n",
       "val_loss        0.989640\n",
       "val_accuracy    0.669700\n",
       "Name: 6, dtype: float64"
      ]
     },
     "execution_count": 37,
     "metadata": {},
     "output_type": "execute_result"
    }
   ],
   "source": [
    "# Final metrics\r\n",
    "metrics.iloc[-1,:]"
   ]
  },
  {
   "cell_type": "code",
   "execution_count": 39,
   "metadata": {},
   "outputs": [
    {
     "name": "stdout",
     "output_type": "stream",
     "text": [
      "313/313 [==============================] - 1s 2ms/step - loss: 0.9896 - accuracy: 0.6697\n"
     ]
    },
    {
     "data": {
      "text/plain": [
       "[0.9896395802497864, 0.669700026512146]"
      ]
     },
     "execution_count": 39,
     "metadata": {},
     "output_type": "execute_result"
    }
   ],
   "source": [
    "# Same as above\r\n",
    "model.evaluate(x_test, y_cat_test)"
   ]
  },
  {
   "cell_type": "code",
   "execution_count": 43,
   "metadata": {},
   "outputs": [],
   "source": [
    "# We need our predictions to make a confusino matrix\r\n",
    "#predictions = model.predict_classes(x_test)  # deprecated function\r\n",
    "predictions = np.argmax(model.predict(x_test), axis=-1)"
   ]
  },
  {
   "cell_type": "code",
   "execution_count": 44,
   "metadata": {},
   "outputs": [
    {
     "name": "stdout",
     "output_type": "stream",
     "text": [
      "              precision    recall  f1-score   support\n",
      "\n",
      "           0       0.74      0.69      0.72      1000\n",
      "           1       0.90      0.63      0.74      1000\n",
      "           2       0.59      0.51      0.55      1000\n",
      "           3       0.50      0.45      0.47      1000\n",
      "           4       0.60      0.64      0.62      1000\n",
      "           5       0.54      0.65      0.59      1000\n",
      "           6       0.71      0.79      0.75      1000\n",
      "           7       0.72      0.75      0.73      1000\n",
      "           8       0.76      0.78      0.77      1000\n",
      "           9       0.71      0.80      0.75      1000\n",
      "\n",
      "    accuracy                           0.67     10000\n",
      "   macro avg       0.68      0.67      0.67     10000\n",
      "weighted avg       0.68      0.67      0.67     10000\n",
      "\n"
     ]
    }
   ],
   "source": [
    "print(classification_report(y_test, predictions))"
   ]
  },
  {
   "cell_type": "code",
   "execution_count": 45,
   "metadata": {},
   "outputs": [
    {
     "data": {
      "text/plain": [
       "array([[695,   8,  54,  18,  32,  17,  16,  22,  99,  39],\n",
       "       [ 38, 626,  17,  14,  16,  11,  22,  10,  53, 193],\n",
       "       [ 61,   3, 509,  60, 102, 109,  86,  43,  14,  13],\n",
       "       [  9,   3,  69, 450,  90, 229,  84,  32,  17,  17],\n",
       "       [ 10,   0,  61,  58, 643,  61,  66,  82,  14,   5],\n",
       "       [  9,   0,  42, 151,  52, 649,  30,  53,   8,   6],\n",
       "       [  6,   2,  47,  61,  33,  32, 794,  14,   5,   6],\n",
       "       [ 13,   0,  26,  42,  75,  74,   8, 746,   5,  11],\n",
       "       [ 64,  26,  16,  24,  20,  11,  10,   5, 784,  40],\n",
       "       [ 33,  30,  17,  26,  12,  15,   7,  23,  36, 801]], dtype=int64)"
      ]
     },
     "execution_count": 45,
     "metadata": {},
     "output_type": "execute_result"
    }
   ],
   "source": [
    "confusion_matrix(y_test, predictions)"
   ]
  },
  {
   "cell_type": "code",
   "execution_count": 49,
   "metadata": {},
   "outputs": [
    {
     "data": {
      "image/png": "[encoded data removed]",
      "text/plain": [
       "<Figure size 648x360 with 2 Axes>"
      ]
     },
     "metadata": {
      "needs_background": "light"
     },
     "output_type": "display_data"
    }
   ],
   "source": [
    "plt.figure(figsize=(9,5))\r\n",
    "sns.heatmap(confusion_matrix(y_test, predictions), annot=True);"
   ]
  },
  {
   "cell_type": "code",
   "execution_count": 50,
   "metadata": {},
   "outputs": [],
   "source": [
    "# Examining a single image\r\n",
    "single_image = x_test[0]"
   ]
  },
  {
   "cell_type": "code",
   "execution_count": 51,
   "metadata": {},
   "outputs": [
    {
     "data": {
      "text/plain": [
       "array([3], dtype=uint8)"
      ]
     },
     "execution_count": 51,
     "metadata": {},
     "output_type": "execute_result"
    }
   ],
   "source": [
    "# we know it is a ...\r\n",
    "y_test[0]"
   ]
  },
  {
   "cell_type": "code",
   "execution_count": 52,
   "metadata": {},
   "outputs": [
    {
     "data": {
      "text/plain": [
       "<matplotlib.image.AxesImage at 0x1d9bfb40b50>"
      ]
     },
     "execution_count": 52,
     "metadata": {},
     "output_type": "execute_result"
    },
    {
     "data": {
      "image/png": "[encoded data removed]",
      "text/plain": [
       "<Figure size 432x288 with 1 Axes>"
      ]
     },
     "metadata": {
      "needs_background": "light"
     },
     "output_type": "display_data"
    }
   ],
   "source": [
    "plt.imshow(single_image)"
   ]
  }
 ],
 "metadata": {
  "interpreter": {
   "hash": "f253d5a8e14d9e52e667d67e1cf2871537a09fa9c606b5eb676ad96c51a36a7e"
  },
  "kernelspec": {
   "display_name": "Python 3.8.10 64-bit ('tf2gpu': conda)",
   "name": "python3"
  },
  "language_info": {
   "codemirror_mode": {
    "name": "ipython",
    "version": 3
   },
   "file_extension": ".py",
   "mimetype": "text/x-python",
   "name": "python",
   "nbconvert_exporter": "python",
   "pygments_lexer": "ipython3",
   "version": "3.8.10"
  },
  "orig_nbformat": 4
 },
 "nbformat": 4,
 "nbformat_minor": 2
}